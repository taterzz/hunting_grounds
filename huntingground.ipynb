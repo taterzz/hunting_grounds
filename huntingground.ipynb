{
 "cells": [
  {
   "cell_type": "code",
   "execution_count": 230,
   "metadata": {},
   "outputs": [],
   "source": [
    "import numpy as np\n",
    "import matplotlib.pyplot as plt\n",
    "%matplotlib inline"
   ]
  },
  {
   "cell_type": "code",
   "execution_count": 231,
   "metadata": {},
   "outputs": [],
   "source": [
    "plt.rcParams['figure.figsize'] = (12, 6)\n",
    "plt.rc('axes', labelsize=14)\n",
    "plt.rc('axes', labelweight='bold')\n",
    "plt.rc('axes', titlesize=16)\n",
    "plt.rc('axes', titleweight='bold')\n",
    "plt.rc('font', family='sans-serif')\n",
    "plt.rcParams['errorbar.capsize'] = 3\n",
    "opts = {'mec':'k', 'mew': 0.5, 'lw': 1}"
   ]
  },
  {
   "cell_type": "code",
   "execution_count": 232,
   "metadata": {
    "scrolled": true
   },
   "outputs": [
    {
     "data": {
      "text/plain": [
       "array([( 0, 'DarkImp',  600., 1.  , 1.  , 1.  , 1.  , 0.25, 1.  , 1.  , 1.  ),\n",
       "       ( 1, 'Salamander',  450., 0.  , 1.  , 0.25, 1.  , 1.  , 1.  , 1.  , 0.5 ),\n",
       "       ( 2, 'LowerDemon',  900., 1.  , 1.  , 1.  , 0.5 , 0.25, 1.  , 1.  , 1.  ),\n",
       "       ( 3, 'DemonSmoke',  250., 0.25, 0.25, 0.25, 0.  , 0.  , 1.  , 1.  , 0.25),\n",
       "       ( 4, 'FireGiant', 2800., 0.75, 1.5 , 0.5 , 1.  , 1.  , 1.  , 1.  , 1.  ),\n",
       "       ( 5, 'DeathStare', 1600., 1.  , 1.  , 1.  , 0.  , 0.  , 1.  , 1.  , 0.5 ),\n",
       "       ( 6, 'FireDragon', 4500., 0.  , 1.5 , 1.  , 1.  , 1.  , 1.  , 1.  , 1.  ),\n",
       "       ( 7, 'ThunderDragon', 5000., 1.  , 1.  , 0.  , 1.  , 1.  , 1.  , 1.  , 1.  ),\n",
       "       ( 8, 'FireElemental',  850., 0.  , 1.5 , 0.5 , 0.5 , 0.5 , 0.5 , 1.  , 1.  ),\n",
       "       ( 9, 'EvilSpirit',  500., 0.25, 0.25, 0.25, 0.  , 0.  , 1.  , 1.  , 0.5 ),\n",
       "       (10, 'FracturedSoul', 1250., 1.  , 1.  , 1.  , 1.  , 1.  , 1.  , 1.  , 1.  ),\n",
       "       (11, 'DarkKnight', 1400., 1.  , 1.  , 1.  , 1.  , 0.25, 1.  , 1.  , 1.  ),\n",
       "       (12, 'DeathVeggie', 2600., 2.  , 2.  , 2.  , 2.  , 1.  , 1.  , 1.  , 1.  ),\n",
       "       (13, 'GoldenStriker', 1000., 0.5 , 0.5 , 0.5 , 0.5 , 0.5 , 1.  , 1.  , 1.  ),\n",
       "       (14, 'Titan', 9000., 1.  , 1.  , 1.  , 1.  , 1.  , 1.  , 1.  , 1.  ),\n",
       "       (15, 'MiddleDemon', 2500., 1.  , 1.  , 1.  , 0.25, 0.25, 1.  , 1.  , 1.  ),\n",
       "       (16, 'DiamondGuard',  600., 0.3 , 0.3 , 0.3 , 1.  , 0.25, 0.3 , 0.3 , 0.25),\n",
       "       (17, 'DarkMist',  600., 0.  , 0.25, 0.25, 0.  , 0.  , 1.  , 1.  , 0.25),\n",
       "       (18, 'Infernal', 1700., 0.  , 1.5 , 0.25, 0.  , 0.25, 1.5 , 1.  , 0.75),\n",
       "       (19, 'SoulFiend', 1600., 1.  , 1.  , 1.  , 0.  , 0.  , 1.  , 1.  , 1.  ),\n",
       "       (20, 'Firegoyle', 1600., 0.  , 2.  , 0.5 , 1.  , 0.25, 1.  , 1.  , 1.  ),\n",
       "       (21, 'GreatDemon', 2450., 0.6 , 0.6 , 1.  , 0.  , 0.  , 1.  , 1.  , 1.  ),\n",
       "       (22, 'DemonWarrior', 2550., 1.  , 1.  , 1.  , 1.  , 0.25, 1.  , 1.  , 0.85),\n",
       "       (23, 'PitFiend', 2650., 0.7 , 1.  , 1.  , 1.  , 0.  , 1.  , 0.6 , 1.  ),\n",
       "       (24, 'TrigonaSentry', 2200., 1.  , 1.  , 2.  , 0.5 , 0.  , 0.5 , 1.  , 1.  ),\n",
       "       (25, 'MoltenTriton', 2400., 1.  , 2.  , 0.25, 0.5 , 1.  , 1.  , 1.  , 1.  ),\n",
       "       (26, 'MudConch', 2150., 2.  , 1.  , 1.  , 0.25, 0.5 , 0.5 , 1.  , 0.75),\n",
       "       (27, 'Amonite', 2300., 0.75, 0.75, 1.  , 0.25, 1.  , 0.75, 1.  , 1.  ),\n",
       "       (28, 'GoldenTrigona', 2500., 1.  , 0.5 , 2.  , 0.5 , 0.  , 0.  , 1.  , 1.  ),\n",
       "       (29, 'GoldenTriton', 2500., 1.  , 1.  , 2.  , 0.5 , 1.  , 1.  , 1.  , 1.  ),\n",
       "       (30, 'SilverDragon', 6000., 2.  , 0.  , 0.5 , 0.5 , 0.5 , 0.5 , 1.  , 0.8 ),\n",
       "       (31, 'GoldDragon', 7200., 0.5 , 2.  , 0.  , 0.25, 1.  , 0.5 , 1.  , 1.  ),\n",
       "       (32, 'DiamondGolem', 5000., 0.75, 0.75, 0.75, 0.75, 0.75, 0.75, 0.75, 0.75),\n",
       "       (33, 'Beholder', 6500., 1.  , 1.  , 1.  , 1.  , 1.  , 1.  , 0.6 , 0.75),\n",
       "       (34, 'DarkDragon', 9500., 1.  , 1.  , 1.  , 1.  , 0.  , 2.  , 0.65, 1.  ),\n",
       "       (35, 'AlbinoCentipede', 8000., 0.25, 0.25, 0.5 , 0.75, 2.5 , 0.  , 0.7 , 1.  ),\n",
       "       (36, 'ArmoredTroll', 7200., 0.  , 0.5 , 2.  , 0.  , 0.  , 0.5 , 0.5 , 0.75),\n",
       "       (37, 'FraimGoblin', 2100., 1.  , 1.  , 1.  , 1.  , 1.  , 1.  , 1.  , 1.  ),\n",
       "       (38, 'MoltenSentry', 1400., 0.4 , 5.  , 0.4 , 0.  , 0.4 , 0.4 , 1.  , 1.  ),\n",
       "       (39, 'Devil', 1700., 0.8 , 0.8 , 0.8 , 0.8 , 0.8 , 0.8 , 1.  , 1.  ),\n",
       "       (40, 'DarkElemental', 1450., 0.25, 0.5 , 0.5 , 1.  , 0.  , 1.  , 0.5 , 0.75),\n",
       "       (41, 'FraimLizard', 2500., 1.  , 1.  , 1.  , 1.  , 1.  , 1.  , 1.  , 1.  ),\n",
       "       (42, 'BloodStorm',  600., 1.  , 1.  , 1.  , 0.  , 1.  , 1.  , 1.  , 1.  ),\n",
       "       (43, 'Colossus', 6500., 1.  , 1.  , 1.  , 1.  , 1.  , 1.  , 0.7 , 0.85),\n",
       "       (44, 'FraimTroll', 6600., 1.  , 2.  , 1.  , 1.  , 1.  , 1.  , 1.  , 1.  ),\n",
       "       (45, 'FraimBeast', 9500., 0.  , 1.  , 2.  , 0.75, 1.  , 1.  , 1.  , 0.8 ),\n",
       "       (46, 'FraimDragon', 9000., 1.  , 1.  , 1.  , 0.  , 1.  , 1.  , 1.  , 1.  ),\n",
       "       (47, 'IgneousGolem', 6500., 0.5 , 0.5 , 0.5 , 0.  , 3.  , 0.5 , 0.5 , 1.  ),\n",
       "       (48, 'PitWyvern', 7000., 1.  , 1.  , 1.  , 0.  , 1.  , 1.  , 1.  , 1.  )],\n",
       "      dtype=[('index', '<i8'), ('name', '<U200'), ('hp', '<f8'), ('fire', '<f8'), ('ice', '<f8'), ('lit', '<f8'), ('pois', '<f8'), ('dark', '<f8'), ('holy', '<f8'), ('non', '<f8'), ('str', '<f8')])"
      ]
     },
     "execution_count": 232,
     "metadata": {},
     "output_type": "execute_result"
    }
   ],
   "source": [
    "dtype = []\n",
    "dtype.append( ('index', int) ) \n",
    "dtype.append( ('name', 'U200') ) \n",
    "dtype.append( ('hp', float) ) \n",
    "dtype.append( ('fire', float) ) \n",
    "dtype.append( ('ice', float) ) \n",
    "dtype.append( ('lit', float) ) \n",
    "dtype.append( ('pois', float) ) \n",
    "dtype.append( ('dark', float) ) \n",
    "dtype.append( ('holy', float) ) \n",
    "dtype.append( ('non', float) ) \n",
    "dtype.append( ('str', float) ) \n",
    "\n",
    "monsters = np.genfromtxt('/home/taterz/monsters.dat', dtype=dtype)\n",
    "monsters"
   ]
  },
  {
   "cell_type": "code",
   "execution_count": 233,
   "metadata": {},
   "outputs": [
    {
     "data": {
      "text/plain": [
       "array([( 0, 'Fire3',  3.,  12., 'fire'), ( 1, 'Ice3',  3.,  12., 'ice'),\n",
       "       ( 2, 'Lit3',  3.,  12., 'lit'), ( 3, 'Nuke', 10., 100., 'non'),\n",
       "       ( 4, 'White',  6.,  60., 'holy'), ( 5, 'Harm3',  2.,  24., 'holy'),\n",
       "       ( 6, 'Poison3',  3.,  25., 'pois'),\n",
       "       ( 7, 'Pearl',  7.,  60., 'non'),\n",
       "       ( 8, 'Darkfire3',  3.,  50., 'dark'),\n",
       "       ( 9, 'VermillionMagic',  3.,   0., 'non'),\n",
       "       (10, 'VermillionMelee',  3.,   0., 'str')],\n",
       "      dtype=[('index', '<i8'), ('name', '<U200'), ('mamod', '<f8'), ('bonus', '<f8'), ('element', '<U200')])"
      ]
     },
     "execution_count": 233,
     "metadata": {},
     "output_type": "execute_result"
    }
   ],
   "source": [
    "dtype2 = []\n",
    "dtype2.append( ('index', int) ) \n",
    "dtype2.append( ('name', 'U200') ) \n",
    "dtype2.append( ('mamod', float) ) \n",
    "dtype2.append( ('bonus', float) ) \n",
    "dtype2.append( ('element', 'U200') ) \n",
    "\n",
    "spells = np.genfromtxt('/home/taterz/spells.dat', dtype=dtype2)\n",
    "spells"
   ]
  },
  {
   "cell_type": "code",
   "execution_count": 234,
   "metadata": {},
   "outputs": [
    {
     "data": {
      "text/plain": [
       "array([(0, 'Redmage',  7., 8., 2., 2.), (1, 'Bluemage',  8., 6., 3., 2.),\n",
       "       (2, 'Whitemage',  9., 7., 3., 2.),\n",
       "       (3, 'Blackmage', 10., 6., 3., 1.)],\n",
       "      dtype=[('index', '<i8'), ('class', '<U200'), ('lv1will', '<f8'), ('lv1str', '<f8'), ('lvupwill', '<f8'), ('lvupstr', '<f8')])"
      ]
     },
     "execution_count": 234,
     "metadata": {},
     "output_type": "execute_result"
    }
   ],
   "source": [
    "dtype3 = []\n",
    "dtype3.append( ('index', int) ) \n",
    "dtype3.append( ('class', 'U200') ) \n",
    "dtype3.append( ('lv1will', float) ) \n",
    "dtype3.append( ('lv1str', float) ) \n",
    "dtype3.append( ('lvupwill', float) ) \n",
    "dtype3.append( ('lvupstr', float) ) \n",
    "\n",
    "classes = np.genfromtxt('/home/taterz/classes.dat', dtype=dtype3)\n",
    "classes"
   ]
  },
  {
   "cell_type": "code",
   "execution_count": 235,
   "metadata": {},
   "outputs": [],
   "source": [
    "LV = np.arange(1, 101, 1); staff = 200; rapier = 170     #level range as applicable to bonus stats"
   ]
  },
  {
   "cell_type": "markdown",
   "metadata": {},
   "source": [
    "Spell damage is considered by it's absolute minimum damage."
   ]
  },
  {
   "cell_type": "code",
   "execution_count": 238,
   "metadata": {},
   "outputs": [],
   "source": [
    "def hit_test(monsters, spells, classes, weapon, bp):\n",
    "    \"\"\" Determines the hit thresholds for the monster in question for the higher tier spells and creates a\n",
    "    graph to represent the hit thresholds. Will also return the hit values if they exist.\n",
    "    \n",
    "    'monsters' monsters index from the monsters array\n",
    "    \n",
    "    'spell' spell you wish to use to check (based of natural or full bonus points entry)\n",
    "    'classes' array entry containing the class to check, it must match the spell choice\n",
    "    'weapon' is the weapon's minimum magic/attack value\n",
    "    'bp' bonus points placed into the relevant stat\n",
    "    \"\"\"\n",
    "    statmod = classes[4]*LV + bp + weapon\n",
    "    damage = spells['mamod'] * statmod + spells['bonus']\n",
    "    element = spells['element']\n",
    "    damage = damage * monsters[element]\n",
    "    \n",
    "    hitcount = 1 - (monsters['hp'] - damage)/monsters['hp']\n",
    "\n",
    "    plt.plot(LV, hitcount, 'k')\n",
    "    plt.axhline(y=1/4, color='b')               #4 hits\n",
    "    plt.axhline(y=1/3, color='b')               #3 hits\n",
    "    plt.axhline(y=1/2, color='b')               #2 hits\n",
    "    plt.axhline(y=1, color='b')                  #1 hit\n",
    "    plt.grid()\n",
    "    \n",
    "    fourhit = hitcount > 1/4\n",
    "    threehit = hitcount > 1/3\n",
    "    twohit = hitcount > 1/2\n",
    "    onehit = hitcount > 1\n",
    "\n",
    "    if hitcount[fourhit].size > 0:\n",
    "        print('Minimum 4-hit level: ', len(LV) - len(damage[fourhit]))\n",
    "        print('Magic/attack rating of: ', statmod[len(LV) - len(damage[fourhit])])\n",
    "    \n",
    "    if hitcount[threehit].size > 0:\n",
    "        print('Minimum 3-hit level: ', len(LV) - len(damage[threehit]))    \n",
    "        print('Magic/attack rating of: ', statmod[len(LV) - len(damage[threehit])])\n",
    "\n",
    "    if hitcount[twohit].size > 0:\n",
    "        print('Minimum 2-hit level: ', len(LV) - len(damage[twohit]))\n",
    "        print('Magic/attack rating of: ', statmod[len(LV) - len(damage[twohit])])\n",
    "    \n",
    "    if hitcount[onehit].size > 0:\n",
    "        print('Minimum 1-hit level: ', len(LV) - len(damage[onehit]))\n",
    "        print('Magic/attack rating of: ', statmod[len(LV) - len(damage[onehit])])\n"
   ]
  },
  {
   "cell_type": "code",
   "execution_count": 240,
   "metadata": {},
   "outputs": [
    {
     "name": "stdout",
     "output_type": "stream",
     "text": [
      "Minimum 4-hit level:  0\n",
      "Magic/attack rating of:  253.0\n",
      "Minimum 3-hit level:  0\n",
      "Magic/attack rating of:  253.0\n",
      "Minimum 2-hit level:  0\n",
      "Magic/attack rating of:  253.0\n",
      "Minimum 1-hit level:  0\n",
      "Magic/attack rating of:  253.0\n"
     ]
    },
    {
     "data": {
      "image/png": "[encoded data removed]",
      "text/plain": [
       "<Figure size 864x432 with 1 Axes>"
      ]
     },
     "metadata": {
      "needs_background": "light"
     },
     "output_type": "display_data"
    }
   ],
   "source": [
    "hit_test(monsters[8], spells[3], classes[3], staff, 50)"
   ]
  }
 ],
 "metadata": {
  "kernelspec": {
   "display_name": "Python 3",
   "language": "python",
   "name": "python3"
  },
  "language_info": {
   "codemirror_mode": {
    "name": "ipython",
    "version": 3
   },
   "file_extension": ".py",
   "mimetype": "text/x-python",
   "name": "python",
   "nbconvert_exporter": "python",
   "pygments_lexer": "ipython3",
   "version": "3.7.2"
  }
 },
 "nbformat": 4,
 "nbformat_minor": 2
}
